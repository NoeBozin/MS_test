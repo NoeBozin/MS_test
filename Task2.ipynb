{
 "cells": [
  {
   "cell_type": "code",
   "execution_count": 31,
   "id": "ec561d34",
   "metadata": {},
   "outputs": [],
   "source": [
    "import pandas as pd\n",
    "import datetime as dt\n",
    "import numpy as np\n",
    "from datetime import datetime"
   ]
  },
  {
   "cell_type": "code",
   "execution_count": 32,
   "id": "e9f4111b",
   "metadata": {},
   "outputs": [],
   "source": [
    "df = pd.read_csv (r'C:/Users/44789/OneDrive/Desktop/Py test_MS/Yield_data.csv')"
   ]
  },
  {
   "cell_type": "code",
   "execution_count": 33,
   "id": "6b4709cd",
   "metadata": {},
   "outputs": [],
   "source": [
    "df.index.name = 'Num'\n",
    "df = df.rename(columns={\"Unnamed: 0\": \"Dates\"})\n",
    "df = df[[\"1Y\", \"2Y\", \"5Y\", \"7Y\", \"10Y\", \"12Y\", \"15Y\", \"20Y\", \"25Y\", \"30Y\", \"40Y\", \"50Y\"]]"
   ]
  },
  {
   "cell_type": "code",
   "execution_count": 34,
   "id": "c8d2d4f3",
   "metadata": {
    "scrolled": false
   },
   "outputs": [
    {
     "data": {
      "text/html": [
       "<div>\n",
       "<style scoped>\n",
       "    .dataframe tbody tr th:only-of-type {\n",
       "        vertical-align: middle;\n",
       "    }\n",
       "\n",
       "    .dataframe tbody tr th {\n",
       "        vertical-align: top;\n",
       "    }\n",
       "\n",
       "    .dataframe thead th {\n",
       "        text-align: right;\n",
       "    }\n",
       "</style>\n",
       "<table border=\"1\" class=\"dataframe\">\n",
       "  <thead>\n",
       "    <tr style=\"text-align: right;\">\n",
       "      <th></th>\n",
       "      <th>1Y</th>\n",
       "      <th>2Y</th>\n",
       "      <th>5Y</th>\n",
       "      <th>7Y</th>\n",
       "      <th>10Y</th>\n",
       "      <th>12Y</th>\n",
       "      <th>15Y</th>\n",
       "      <th>20Y</th>\n",
       "      <th>25Y</th>\n",
       "      <th>30Y</th>\n",
       "      <th>40Y</th>\n",
       "      <th>50Y</th>\n",
       "    </tr>\n",
       "  </thead>\n",
       "  <tbody>\n",
       "    <tr>\n",
       "      <th>1Y</th>\n",
       "      <td>1.000000</td>\n",
       "      <td>0.958053</td>\n",
       "      <td>0.898100</td>\n",
       "      <td>0.839014</td>\n",
       "      <td>0.799619</td>\n",
       "      <td>0.801264</td>\n",
       "      <td>0.802038</td>\n",
       "      <td>0.808897</td>\n",
       "      <td>0.813024</td>\n",
       "      <td>0.802626</td>\n",
       "      <td>0.783987</td>\n",
       "      <td>0.771083</td>\n",
       "    </tr>\n",
       "    <tr>\n",
       "      <th>2Y</th>\n",
       "      <td>0.958053</td>\n",
       "      <td>1.000000</td>\n",
       "      <td>0.972668</td>\n",
       "      <td>0.934220</td>\n",
       "      <td>0.899872</td>\n",
       "      <td>0.893567</td>\n",
       "      <td>0.884787</td>\n",
       "      <td>0.869165</td>\n",
       "      <td>0.852275</td>\n",
       "      <td>0.836315</td>\n",
       "      <td>0.812534</td>\n",
       "      <td>0.796386</td>\n",
       "    </tr>\n",
       "    <tr>\n",
       "      <th>5Y</th>\n",
       "      <td>0.898100</td>\n",
       "      <td>0.972668</td>\n",
       "      <td>1.000000</td>\n",
       "      <td>0.989577</td>\n",
       "      <td>0.972225</td>\n",
       "      <td>0.966956</td>\n",
       "      <td>0.956874</td>\n",
       "      <td>0.937989</td>\n",
       "      <td>0.915973</td>\n",
       "      <td>0.899871</td>\n",
       "      <td>0.876792</td>\n",
       "      <td>0.860956</td>\n",
       "    </tr>\n",
       "    <tr>\n",
       "      <th>7Y</th>\n",
       "      <td>0.839014</td>\n",
       "      <td>0.934220</td>\n",
       "      <td>0.989577</td>\n",
       "      <td>1.000000</td>\n",
       "      <td>0.995122</td>\n",
       "      <td>0.991276</td>\n",
       "      <td>0.983295</td>\n",
       "      <td>0.963838</td>\n",
       "      <td>0.940078</td>\n",
       "      <td>0.925931</td>\n",
       "      <td>0.906201</td>\n",
       "      <td>0.892407</td>\n",
       "    </tr>\n",
       "    <tr>\n",
       "      <th>10Y</th>\n",
       "      <td>0.799619</td>\n",
       "      <td>0.899872</td>\n",
       "      <td>0.972225</td>\n",
       "      <td>0.995122</td>\n",
       "      <td>1.000000</td>\n",
       "      <td>0.998816</td>\n",
       "      <td>0.993491</td>\n",
       "      <td>0.976948</td>\n",
       "      <td>0.954768</td>\n",
       "      <td>0.942644</td>\n",
       "      <td>0.925819</td>\n",
       "      <td>0.913800</td>\n",
       "    </tr>\n",
       "    <tr>\n",
       "      <th>12Y</th>\n",
       "      <td>0.801264</td>\n",
       "      <td>0.893567</td>\n",
       "      <td>0.966956</td>\n",
       "      <td>0.991276</td>\n",
       "      <td>0.998816</td>\n",
       "      <td>1.000000</td>\n",
       "      <td>0.997517</td>\n",
       "      <td>0.985450</td>\n",
       "      <td>0.966950</td>\n",
       "      <td>0.956391</td>\n",
       "      <td>0.941353</td>\n",
       "      <td>0.930420</td>\n",
       "    </tr>\n",
       "    <tr>\n",
       "      <th>15Y</th>\n",
       "      <td>0.802038</td>\n",
       "      <td>0.884787</td>\n",
       "      <td>0.956874</td>\n",
       "      <td>0.983295</td>\n",
       "      <td>0.993491</td>\n",
       "      <td>0.997517</td>\n",
       "      <td>1.000000</td>\n",
       "      <td>0.994125</td>\n",
       "      <td>0.980374</td>\n",
       "      <td>0.972329</td>\n",
       "      <td>0.960371</td>\n",
       "      <td>0.951328</td>\n",
       "    </tr>\n",
       "    <tr>\n",
       "      <th>20Y</th>\n",
       "      <td>0.808897</td>\n",
       "      <td>0.869165</td>\n",
       "      <td>0.937989</td>\n",
       "      <td>0.963838</td>\n",
       "      <td>0.976948</td>\n",
       "      <td>0.985450</td>\n",
       "      <td>0.994125</td>\n",
       "      <td>1.000000</td>\n",
       "      <td>0.995703</td>\n",
       "      <td>0.991342</td>\n",
       "      <td>0.983487</td>\n",
       "      <td>0.976954</td>\n",
       "    </tr>\n",
       "    <tr>\n",
       "      <th>25Y</th>\n",
       "      <td>0.813024</td>\n",
       "      <td>0.852275</td>\n",
       "      <td>0.915973</td>\n",
       "      <td>0.940078</td>\n",
       "      <td>0.954768</td>\n",
       "      <td>0.966950</td>\n",
       "      <td>0.980374</td>\n",
       "      <td>0.995703</td>\n",
       "      <td>1.000000</td>\n",
       "      <td>0.998996</td>\n",
       "      <td>0.994839</td>\n",
       "      <td>0.990589</td>\n",
       "    </tr>\n",
       "    <tr>\n",
       "      <th>30Y</th>\n",
       "      <td>0.802626</td>\n",
       "      <td>0.836315</td>\n",
       "      <td>0.899871</td>\n",
       "      <td>0.925931</td>\n",
       "      <td>0.942644</td>\n",
       "      <td>0.956391</td>\n",
       "      <td>0.972329</td>\n",
       "      <td>0.991342</td>\n",
       "      <td>0.998996</td>\n",
       "      <td>1.000000</td>\n",
       "      <td>0.998365</td>\n",
       "      <td>0.995684</td>\n",
       "    </tr>\n",
       "    <tr>\n",
       "      <th>40Y</th>\n",
       "      <td>0.783987</td>\n",
       "      <td>0.812534</td>\n",
       "      <td>0.876792</td>\n",
       "      <td>0.906201</td>\n",
       "      <td>0.925819</td>\n",
       "      <td>0.941353</td>\n",
       "      <td>0.960371</td>\n",
       "      <td>0.983487</td>\n",
       "      <td>0.994839</td>\n",
       "      <td>0.998365</td>\n",
       "      <td>1.000000</td>\n",
       "      <td>0.999361</td>\n",
       "    </tr>\n",
       "    <tr>\n",
       "      <th>50Y</th>\n",
       "      <td>0.771083</td>\n",
       "      <td>0.796386</td>\n",
       "      <td>0.860956</td>\n",
       "      <td>0.892407</td>\n",
       "      <td>0.913800</td>\n",
       "      <td>0.930420</td>\n",
       "      <td>0.951328</td>\n",
       "      <td>0.976954</td>\n",
       "      <td>0.990589</td>\n",
       "      <td>0.995684</td>\n",
       "      <td>0.999361</td>\n",
       "      <td>1.000000</td>\n",
       "    </tr>\n",
       "  </tbody>\n",
       "</table>\n",
       "</div>"
      ],
      "text/plain": [
       "           1Y        2Y        5Y        7Y       10Y       12Y       15Y  \\\n",
       "1Y   1.000000  0.958053  0.898100  0.839014  0.799619  0.801264  0.802038   \n",
       "2Y   0.958053  1.000000  0.972668  0.934220  0.899872  0.893567  0.884787   \n",
       "5Y   0.898100  0.972668  1.000000  0.989577  0.972225  0.966956  0.956874   \n",
       "7Y   0.839014  0.934220  0.989577  1.000000  0.995122  0.991276  0.983295   \n",
       "10Y  0.799619  0.899872  0.972225  0.995122  1.000000  0.998816  0.993491   \n",
       "12Y  0.801264  0.893567  0.966956  0.991276  0.998816  1.000000  0.997517   \n",
       "15Y  0.802038  0.884787  0.956874  0.983295  0.993491  0.997517  1.000000   \n",
       "20Y  0.808897  0.869165  0.937989  0.963838  0.976948  0.985450  0.994125   \n",
       "25Y  0.813024  0.852275  0.915973  0.940078  0.954768  0.966950  0.980374   \n",
       "30Y  0.802626  0.836315  0.899871  0.925931  0.942644  0.956391  0.972329   \n",
       "40Y  0.783987  0.812534  0.876792  0.906201  0.925819  0.941353  0.960371   \n",
       "50Y  0.771083  0.796386  0.860956  0.892407  0.913800  0.930420  0.951328   \n",
       "\n",
       "          20Y       25Y       30Y       40Y       50Y  \n",
       "1Y   0.808897  0.813024  0.802626  0.783987  0.771083  \n",
       "2Y   0.869165  0.852275  0.836315  0.812534  0.796386  \n",
       "5Y   0.937989  0.915973  0.899871  0.876792  0.860956  \n",
       "7Y   0.963838  0.940078  0.925931  0.906201  0.892407  \n",
       "10Y  0.976948  0.954768  0.942644  0.925819  0.913800  \n",
       "12Y  0.985450  0.966950  0.956391  0.941353  0.930420  \n",
       "15Y  0.994125  0.980374  0.972329  0.960371  0.951328  \n",
       "20Y  1.000000  0.995703  0.991342  0.983487  0.976954  \n",
       "25Y  0.995703  1.000000  0.998996  0.994839  0.990589  \n",
       "30Y  0.991342  0.998996  1.000000  0.998365  0.995684  \n",
       "40Y  0.983487  0.994839  0.998365  1.000000  0.999361  \n",
       "50Y  0.976954  0.990589  0.995684  0.999361  1.000000  "
      ]
     },
     "execution_count": 34,
     "metadata": {},
     "output_type": "execute_result"
    }
   ],
   "source": [
    "corr_df = df.corr(method='pearson')\n",
    "#corr_df.head().reset_index()\n",
    "corr_df"
   ]
  },
  {
   "cell_type": "code",
   "execution_count": 35,
   "id": "a15341b4",
   "metadata": {},
   "outputs": [],
   "source": [
    "#Imports\n",
    "import matplotlib.pyplot as plt\n",
    "import numpy as np\n",
    "import pandas as pd\n",
    "from sklearn import decomposition\n",
    "from sklearn.preprocessing import scale\n",
    "from sklearn.decomposition import PCA\n",
    "import seaborn as sb\n",
    "%matplotlib inline"
   ]
  },
  {
   "cell_type": "code",
   "execution_count": 36,
   "id": "6ff8d8bb",
   "metadata": {},
   "outputs": [],
   "source": [
    "df = pd.read_csv (r'C:/Users/44789/OneDrive/Desktop/Py test_MS/Yield_data.csv')\n",
    "df.index.name = 'Num'\n",
    "df = df.rename(columns={\"Unnamed: 0\": \"Dates\"})\n",
    "df = df[[\"1Y\", \"2Y\", \"5Y\", \"7Y\", \"10Y\", \"12Y\", \"15Y\", \"20Y\", \"25Y\", \"30Y\", \"40Y\", \"50Y\"]]"
   ]
  },
  {
   "cell_type": "code",
   "execution_count": 37,
   "id": "54489438",
   "metadata": {},
   "outputs": [
    {
     "data": {
      "text/plain": [
       "array([[0.70887819, 0.3422232 , 0.33756613, ..., 0.82332615, 0.8495841 ,\n",
       "        0.86421176],\n",
       "       [0.78744199, 0.41851934, 0.39527528, ..., 0.86408888, 0.8869591 ,\n",
       "        0.89927204],\n",
       "       [0.82401073, 0.45549853, 0.42850177, ..., 0.93768064, 0.96779984,\n",
       "        0.98469668],\n",
       "       ...,\n",
       "       [3.12996454, 3.17750684, 3.15504082, ..., 3.63978409, 3.64911008,\n",
       "        3.64955596],\n",
       "       [3.07216234, 3.12841377, 3.11766103, ..., 3.48740264, 3.48299896,\n",
       "        3.4753676 ],\n",
       "       [3.07428569, 3.13075154, 3.11831681, ..., 3.48740264, 3.48327582,\n",
       "        3.4753676 ]])"
      ]
     },
     "execution_count": 37,
     "metadata": {},
     "output_type": "execute_result"
    }
   ],
   "source": [
    "x = df.values #convert the data into a numpy array\n",
    "x = scale(x);x"
   ]
  },
  {
   "cell_type": "code",
   "execution_count": 38,
   "id": "a9c7100d",
   "metadata": {},
   "outputs": [],
   "source": [
    "covar_matrix = PCA(n_components = 3) #we have 3 features"
   ]
  },
  {
   "cell_type": "code",
   "execution_count": 39,
   "id": "064a0364",
   "metadata": {},
   "outputs": [
    {
     "data": {
      "text/plain": [
       "array([93.3, 97.9, 99.9])"
      ]
     },
     "execution_count": 39,
     "metadata": {},
     "output_type": "execute_result"
    }
   ],
   "source": [
    "covar_matrix.fit(x)\n",
    "variance = covar_matrix.explained_variance_ratio_ #calculate variance ratios\n",
    "\n",
    "var=np.cumsum(np.round(covar_matrix.explained_variance_ratio_, decimals=3)*100)\n",
    "var #cumulative sum of variance explained with [n] features"
   ]
  },
  {
   "cell_type": "code",
   "execution_count": 40,
   "id": "2e727bc4",
   "metadata": {},
   "outputs": [
    {
     "data": {
      "text/plain": [
       "[<matplotlib.lines.Line2D at 0x222b3293a00>]"
      ]
     },
     "execution_count": 40,
     "metadata": {},
     "output_type": "execute_result"
    },
    {
     "data": {
      "image/png": "[encoded data removed]",
      "text/plain": [
       "<Figure size 432x288 with 1 Axes>"
      ]
     },
     "metadata": {
      "needs_background": "light"
     },
     "output_type": "display_data"
    }
   ],
   "source": [
    "plt.ylabel('% Variance Explained')\n",
    "plt.xlabel('# of Features')\n",
    "plt.title('PCA Analysis')\n",
    "plt.ylim(30,100.5)\n",
    "plt.style.context('seaborn-whitegrid')\n",
    "\n",
    "\n",
    "plt.plot(var)"
   ]
  },
  {
   "cell_type": "code",
   "execution_count": 41,
   "id": "9f90690a",
   "metadata": {},
   "outputs": [],
   "source": [
    "#The first principal component affects approximately equally the original variables and can\n",
    "#therefore be interpreted as the parallel movement of the term structure\n",
    "\n",
    "\n",
    "#The second principal component affects in a similar magnitude but with opposite signs the\n",
    "#opposite end of the maturity spectrum, and can be interpreted as affecting the slope of the t.s.\n",
    "\n",
    "\n",
    "#The third principal component affects in the same way the extremes of the curve and with\n",
    "#an opposite sign the middle. Then the interpretation of this component as affecting the curvature."
   ]
  },
  {
   "cell_type": "code",
   "execution_count": null,
   "id": "16442618",
   "metadata": {},
   "outputs": [],
   "source": []
  }
 ],
 "metadata": {
  "kernelspec": {
   "display_name": "Python 3 (ipykernel)",
   "language": "python",
   "name": "python3"
  },
  "language_info": {
   "codemirror_mode": {
    "name": "ipython",
    "version": 3
   },
   "file_extension": ".py",
   "mimetype": "text/x-python",
   "name": "python",
   "nbconvert_exporter": "python",
   "pygments_lexer": "ipython3",
   "version": "3.9.12"
  }
 },
 "nbformat": 4,
 "nbformat_minor": 5
}
