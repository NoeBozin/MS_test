{
 "cells": [
  {
   "cell_type": "code",
   "execution_count": 1,
   "id": "90d2d127",
   "metadata": {},
   "outputs": [],
   "source": [
    "import pandas as pd\n",
    "import datetime as dt\n",
    "import numpy as np\n",
    "from datetime import datetime"
   ]
  },
  {
   "cell_type": "code",
   "execution_count": 2,
   "id": "b55188e9",
   "metadata": {},
   "outputs": [],
   "source": [
    "df = pd.read_csv (r'C:/Users/44789/OneDrive/Desktop/Py test_MS/Gilts.csv')"
   ]
  },
  {
   "cell_type": "code",
   "execution_count": 3,
   "id": "80a1ff46",
   "metadata": {},
   "outputs": [],
   "source": [
    "#Question 1\n",
    "df.index.name = 'Num'\n",
    "df = df.rename(columns={\"Unnamed: 5\": \"Proceeds\"})\n",
    "Dates = df[[\"Gilt Purchases\", \"Proceeds\"]]"
   ]
  },
  {
   "cell_type": "code",
   "execution_count": 4,
   "id": "73032a10",
   "metadata": {},
   "outputs": [],
   "source": [
    "type(Dates)\n",
    "Dates = Dates.loc[1:]"
   ]
  },
  {
   "cell_type": "code",
   "execution_count": 5,
   "id": "96c9956e",
   "metadata": {},
   "outputs": [],
   "source": [
    "Dates['Proceeds'] = Dates['Proceeds'].astype(float)"
   ]
  },
  {
   "cell_type": "code",
   "execution_count": 6,
   "id": "db6249d6",
   "metadata": {},
   "outputs": [],
   "source": [
    "Dates = Dates[Dates['Proceeds'] > 0]"
   ]
  },
  {
   "cell_type": "code",
   "execution_count": 7,
   "id": "19a0fa28",
   "metadata": {},
   "outputs": [],
   "source": [
    "Dates = Dates[['Gilt Purchases']]"
   ]
  },
  {
   "cell_type": "code",
   "execution_count": 8,
   "id": "5b7b9769",
   "metadata": {},
   "outputs": [],
   "source": [
    "idx = pd.Index(range(len(Dates.index)))"
   ]
  },
  {
   "cell_type": "code",
   "execution_count": 9,
   "id": "35cec0dc",
   "metadata": {},
   "outputs": [],
   "source": [
    "Dates = Dates.set_index(idx)\n",
    "Dates.index.name = 'Num'"
   ]
  },
  {
   "cell_type": "code",
   "execution_count": 10,
   "id": "29f2c994",
   "metadata": {
    "scrolled": true
   },
   "outputs": [],
   "source": [
    "Dates['Gilt Purchases'] = pd.to_datetime(Dates['Gilt Purchases'], format='%d/%m/%Y')"
   ]
  },
  {
   "cell_type": "code",
   "execution_count": 11,
   "id": "7e1210c1",
   "metadata": {},
   "outputs": [
    {
     "data": {
      "text/plain": [
       "Timestamp('2009-03-11 00:00:00')"
      ]
     },
     "execution_count": 11,
     "metadata": {},
     "output_type": "execute_result"
    }
   ],
   "source": [
    "#start_date\n",
    "start_date = Dates.iloc[1]['Gilt Purchases'] \n",
    "start_date"
   ]
  },
  {
   "cell_type": "code",
   "execution_count": 12,
   "id": "ccf451a9",
   "metadata": {},
   "outputs": [
    {
     "data": {
      "text/plain": [
       "Timestamp('2021-12-15 00:00:00')"
      ]
     },
     "execution_count": 12,
     "metadata": {},
     "output_type": "execute_result"
    }
   ],
   "source": [
    "#end_date\n",
    "end_date = Dates['Gilt Purchases'].iloc[len(Dates.index) - 1]\n",
    "end_date"
   ]
  },
  {
   "cell_type": "code",
   "execution_count": 13,
   "id": "edf62525",
   "metadata": {},
   "outputs": [],
   "source": [
    "#Sample = pd.date_range(\"2012-09-09\", periods = 31, freq = \"D\" )\n",
    "Difference = Dates['Gilt Purchases'].loc[10] - Dates['Gilt Purchases'].loc[5]\n",
    "#Difference.days\n",
    " "
   ]
  },
  {
   "cell_type": "code",
   "execution_count": 14,
   "id": "53893aa6",
   "metadata": {},
   "outputs": [],
   "source": [
    "Dates[\"QE_Dates\"] = \"\""
   ]
  },
  {
   "cell_type": "code",
   "execution_count": 15,
   "id": "1ab8001d",
   "metadata": {
    "scrolled": true
   },
   "outputs": [
    {
     "name": "stdout",
     "output_type": "stream",
     "text": [
      "The QE periods applied by Boe have been: 18\n"
     ]
    }
   ],
   "source": [
    "counter = 0\n",
    "for n in range((end_date - start_date).days):\n",
    "    Difference = Dates['Gilt Purchases'].loc[n+1] - Dates['Gilt Purchases'].loc[n]\n",
    "    Diff = Difference.days\n",
    "    if Diff > 31:\n",
    "        Dates.loc[n+1, [\"QE_Dates\"]] = Dates['Gilt Purchases'].loc[n+1]\n",
    "        counter = counter + 1\n",
    "    else:\n",
    "        continue\n",
    "print (\"The QE periods applied by Boe have been:\", counter)\n"
   ]
  },
  {
   "cell_type": "code",
   "execution_count": 16,
   "id": "efc27eba",
   "metadata": {
    "scrolled": false
   },
   "outputs": [
    {
     "data": {
      "text/plain": [
       "array(['', Timestamp('2011-10-10 00:00:00'),\n",
       "       Timestamp('2012-07-09 00:00:00'), Timestamp('2013-03-11 00:00:00'),\n",
       "       Timestamp('2013-09-30 00:00:00'), Timestamp('2014-03-10 00:00:00'),\n",
       "       Timestamp('2014-09-08 00:00:00'), Timestamp('2015-01-26 00:00:00'),\n",
       "       Timestamp('2015-09-07 00:00:00'), Timestamp('2015-12-07 00:00:00'),\n",
       "       Timestamp('2016-01-25 00:00:00'), Timestamp('2016-08-08 00:00:00'),\n",
       "       Timestamp('2017-09-04 00:00:00'), Timestamp('2018-03-12 00:00:00'),\n",
       "       Timestamp('2018-07-23 00:00:00'), Timestamp('2019-03-11 00:00:00'),\n",
       "       Timestamp('2019-07-22 00:00:00'), Timestamp('2019-09-09 00:00:00'),\n",
       "       Timestamp('2020-03-09 00:00:00')], dtype=object)"
      ]
     },
     "execution_count": 16,
     "metadata": {},
     "output_type": "execute_result"
    }
   ],
   "source": [
    "Dates.QE_Dates.unique()"
   ]
  },
  {
   "cell_type": "code",
   "execution_count": 17,
   "id": "f518f2d0",
   "metadata": {},
   "outputs": [],
   "source": [
    "QE_df = Dates"
   ]
  },
  {
   "cell_type": "code",
   "execution_count": 18,
   "id": "9c6ad802",
   "metadata": {},
   "outputs": [],
   "source": [
    "#Question 2\n",
    "#Plot the total amount of QE purchases per week"
   ]
  },
  {
   "cell_type": "code",
   "execution_count": 19,
   "id": "df4e85c6",
   "metadata": {},
   "outputs": [],
   "source": [
    "# Construct dataframe with week number column and values column\n",
    "import matplotlib.pyplot as plt\n",
    "\n",
    "df = pd.read_csv (r'C:/Users/44789/OneDrive/Desktop/Py test_MS/Gilts.csv')\n",
    "#df = pd.read_excel(file_name)\n",
    "\n",
    "df = df.rename(columns={\"Unnamed: 5\": \"Proceeds\"})\n",
    "Dates = df[[\"Gilt Purchases\", \"Proceeds\"]]\n",
    "type(Dates)\n",
    "Dates = Dates.iloc[1:]\n",
    "Dates['Proceeds'] = Dates['Proceeds'].astype(float)"
   ]
  },
  {
   "cell_type": "code",
   "execution_count": 20,
   "id": "2e725fea",
   "metadata": {},
   "outputs": [],
   "source": [
    "matplotlib inline"
   ]
  },
  {
   "cell_type": "code",
   "execution_count": 21,
   "id": "d493f108",
   "metadata": {},
   "outputs": [],
   "source": [
    "#Dates[\"Proceeds\"]"
   ]
  },
  {
   "cell_type": "code",
   "execution_count": 22,
   "id": "88c7f0d1",
   "metadata": {},
   "outputs": [],
   "source": [
    "PpW = Dates.loc[:, [\"Proceeds\"]]\n",
    "PpW[\"Week_no\"] = pd.to_datetime(Dates[\"Gilt Purchases\"], format='%d/%m/%Y').dt.isocalendar().week\n"
   ]
  },
  {
   "cell_type": "code",
   "execution_count": 23,
   "id": "4ba2bb40",
   "metadata": {},
   "outputs": [
    {
     "data": {
      "text/plain": [
       "pandas.core.frame.DataFrame"
      ]
     },
     "execution_count": 23,
     "metadata": {},
     "output_type": "execute_result"
    }
   ],
   "source": [
    "# Sum up weekly values\n",
    "PpW_f = (PpW.groupby(\"Week_no\").sum().reset_index())\n",
    "type(PpW_f)"
   ]
  },
  {
   "cell_type": "code",
   "execution_count": 24,
   "id": "9d7f4cc0",
   "metadata": {},
   "outputs": [],
   "source": [
    "#PpW_f"
   ]
  },
  {
   "cell_type": "code",
   "execution_count": 25,
   "id": "b092b251",
   "metadata": {
    "scrolled": false
   },
   "outputs": [
    {
     "data": {
      "text/plain": [
       "[<matplotlib.lines.Line2D at 0x27ba76e57f0>]"
      ]
     },
     "execution_count": 25,
     "metadata": {},
     "output_type": "execute_result"
    },
    {
     "data": {
      "image/png": "[encoded data removed]",
      "text/plain": [
       "<Figure size 432x288 with 1 Axes>"
      ]
     },
     "metadata": {
      "needs_background": "light"
     },
     "output_type": "display_data"
    }
   ],
   "source": [
    "# Plot results\n",
    "plt.plot(PpW_f[\"Week_no\"], PpW_f[\"Proceeds\"])\n"
   ]
  },
  {
   "cell_type": "code",
   "execution_count": 26,
   "id": "9af35c22",
   "metadata": {},
   "outputs": [],
   "source": [
    "#Question 3"
   ]
  },
  {
   "cell_type": "code",
   "execution_count": 27,
   "id": "088d93d5",
   "metadata": {},
   "outputs": [],
   "source": [
    "df = pd.read_csv (r'C:/Users/44789/OneDrive/Desktop/Py test_MS/Gilts.csv')"
   ]
  },
  {
   "cell_type": "code",
   "execution_count": 28,
   "id": "55bf2a4c",
   "metadata": {},
   "outputs": [],
   "source": [
    "df = df.rename(columns={\"Unnamed: 5\": \"Proceeds\", \"Unnamed: 3\": \"Bonds\"})\n",
    "\n",
    "Dates = df[[\"Gilt Purchases\", \"Bonds\", \"Proceeds\"]]\n",
    "Dates = Dates.iloc[1:]"
   ]
  },
  {
   "cell_type": "code",
   "execution_count": 29,
   "id": "be553f96",
   "metadata": {},
   "outputs": [],
   "source": [
    "Dates['Proceeds'] = Dates['Proceeds'].astype(float)"
   ]
  },
  {
   "cell_type": "code",
   "execution_count": 30,
   "id": "732bbf26",
   "metadata": {},
   "outputs": [],
   "source": [
    "Dates = Dates[Dates['Proceeds'] > 0]"
   ]
  },
  {
   "cell_type": "code",
   "execution_count": 31,
   "id": "81a10f3b",
   "metadata": {},
   "outputs": [],
   "source": [
    "idx = pd.Index(range(len(Dates.index)))"
   ]
  },
  {
   "cell_type": "code",
   "execution_count": 32,
   "id": "0983d9fa",
   "metadata": {},
   "outputs": [],
   "source": [
    "Dates = Dates.set_index(idx)"
   ]
  },
  {
   "cell_type": "code",
   "execution_count": 33,
   "id": "3c089a3e",
   "metadata": {},
   "outputs": [],
   "source": [
    "Dates[\"QE_Periods\"] = \"\""
   ]
  },
  {
   "cell_type": "code",
   "execution_count": 34,
   "id": "c55e6cb7",
   "metadata": {},
   "outputs": [],
   "source": [
    "QE = QE_df[[\"QE_Dates\"]]"
   ]
  },
  {
   "cell_type": "code",
   "execution_count": 35,
   "id": "3905ef92",
   "metadata": {
    "scrolled": true
   },
   "outputs": [],
   "source": [
    "Dates[\"QE_Periods\"] = QE[\"QE_Dates\"]"
   ]
  },
  {
   "cell_type": "code",
   "execution_count": 36,
   "id": "edca9b22",
   "metadata": {},
   "outputs": [
    {
     "data": {
      "text/plain": [
       "array(['', Timestamp('2011-10-10 00:00:00'),\n",
       "       Timestamp('2012-07-09 00:00:00'), Timestamp('2013-03-11 00:00:00'),\n",
       "       Timestamp('2013-09-30 00:00:00'), Timestamp('2014-03-10 00:00:00'),\n",
       "       Timestamp('2014-09-08 00:00:00'), Timestamp('2015-01-26 00:00:00'),\n",
       "       Timestamp('2015-09-07 00:00:00'), Timestamp('2015-12-07 00:00:00'),\n",
       "       Timestamp('2016-01-25 00:00:00'), Timestamp('2016-08-08 00:00:00'),\n",
       "       Timestamp('2017-09-04 00:00:00'), Timestamp('2018-03-12 00:00:00'),\n",
       "       Timestamp('2018-07-23 00:00:00'), Timestamp('2019-03-11 00:00:00'),\n",
       "       Timestamp('2019-07-22 00:00:00'), Timestamp('2019-09-09 00:00:00'),\n",
       "       Timestamp('2020-03-09 00:00:00')], dtype=object)"
      ]
     },
     "execution_count": 36,
     "metadata": {},
     "output_type": "execute_result"
    }
   ],
   "source": [
    "Dates.QE_Periods.unique()"
   ]
  },
  {
   "cell_type": "code",
   "execution_count": 37,
   "id": "975cd4f0",
   "metadata": {},
   "outputs": [],
   "source": [
    "df = Dates.set_index(keys = [\"QE_Periods\", \"Bonds\"])"
   ]
  },
  {
   "cell_type": "code",
   "execution_count": 38,
   "id": "fbd9b632",
   "metadata": {
    "scrolled": false
   },
   "outputs": [
    {
     "data": {
      "text/plain": [
       "QE_Periods           Bonds          \n",
       "2011-10-10 00:00:00  UKT_2.75_220115      117.057828\n",
       "2012-07-09 00:00:00  UKT_4.75_070915       28.932612\n",
       "2013-03-11 00:00:00  UKT_4_070916         106.740380\n",
       "2013-09-30 00:00:00  UKT_1.75_220117      118.330381\n",
       "2014-03-10 00:00:00  UKT_8.75_250817       23.890105\n",
       "                                            ...     \n",
       "                     UKT_6_071228       11893.528404\n",
       "                     UKT_8.75_250817     6489.260441\n",
       "                     UKT_8_070621       16401.024315\n",
       "                     UKT_8_071215        6266.558482\n",
       "                     UKT_8_270913        1912.948123\n",
       "Name: Proceeds, Length: 97, dtype: float64"
      ]
     },
     "execution_count": 38,
     "metadata": {},
     "output_type": "execute_result"
    }
   ],
   "source": [
    "Dates.groupby([\"QE_Periods\", \"Bonds\"])[\"Proceeds\"].sum()"
   ]
  }
 ],
 "metadata": {
  "kernelspec": {
   "display_name": "Python 3 (ipykernel)",
   "language": "python",
   "name": "python3"
  },
  "language_info": {
   "codemirror_mode": {
    "name": "ipython",
    "version": 3
   },
   "file_extension": ".py",
   "mimetype": "text/x-python",
   "name": "python",
   "nbconvert_exporter": "python",
   "pygments_lexer": "ipython3",
   "version": "3.9.12"
  }
 },
 "nbformat": 4,
 "nbformat_minor": 5
}
